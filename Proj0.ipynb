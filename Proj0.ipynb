{
 "cells": [
  {
   "cell_type": "code",
   "execution_count": 149,
   "id": "ef331802",
   "metadata": {},
   "outputs": [
    {
     "name": "stdout",
     "output_type": "stream",
     "text": [
      "HIIIiii\n"
     ]
    }
   ],
   "source": [
    "print('HIIIiii')"
   ]
  },
  {
   "cell_type": "code",
   "execution_count": 150,
   "id": "53644c92",
   "metadata": {},
   "outputs": [],
   "source": [
    "import pandas as pd\n",
    "import numpy as np\n",
    "from matplotlib import pyplot as plt\n",
    "%matplotlib inline\n",
    "import matplotlib\n",
    "matplotlib.rcParams[\"figure.figsize\"] = (20,10)"
   ]
  },
  {
   "cell_type": "code",
   "execution_count": 151,
   "id": "5ef42673",
   "metadata": {},
   "outputs": [
    {
     "data": {
      "text/html": [
       "<div>\n",
       "<style scoped>\n",
       "    .dataframe tbody tr th:only-of-type {\n",
       "        vertical-align: middle;\n",
       "    }\n",
       "\n",
       "    .dataframe tbody tr th {\n",
       "        vertical-align: top;\n",
       "    }\n",
       "\n",
       "    .dataframe thead th {\n",
       "        text-align: right;\n",
       "    }\n",
       "</style>\n",
       "<table border=\"1\" class=\"dataframe\">\n",
       "  <thead>\n",
       "    <tr style=\"text-align: right;\">\n",
       "      <th></th>\n",
       "      <th>area_type</th>\n",
       "      <th>availability</th>\n",
       "      <th>location</th>\n",
       "      <th>size</th>\n",
       "      <th>society</th>\n",
       "      <th>total_sqft</th>\n",
       "      <th>bath</th>\n",
       "      <th>balcony</th>\n",
       "      <th>price</th>\n",
       "    </tr>\n",
       "  </thead>\n",
       "  <tbody>\n",
       "    <tr>\n",
       "      <th>0</th>\n",
       "      <td>Super built-up  Area</td>\n",
       "      <td>19-Dec</td>\n",
       "      <td>Electronic City Phase II</td>\n",
       "      <td>2 BHK</td>\n",
       "      <td>Coomee</td>\n",
       "      <td>1056</td>\n",
       "      <td>2.0</td>\n",
       "      <td>1.0</td>\n",
       "      <td>39.07</td>\n",
       "    </tr>\n",
       "    <tr>\n",
       "      <th>1</th>\n",
       "      <td>Plot  Area</td>\n",
       "      <td>Ready To Move</td>\n",
       "      <td>Chikka Tirupathi</td>\n",
       "      <td>4 Bedroom</td>\n",
       "      <td>Theanmp</td>\n",
       "      <td>2600</td>\n",
       "      <td>5.0</td>\n",
       "      <td>3.0</td>\n",
       "      <td>120.00</td>\n",
       "    </tr>\n",
       "    <tr>\n",
       "      <th>2</th>\n",
       "      <td>Built-up  Area</td>\n",
       "      <td>Ready To Move</td>\n",
       "      <td>Uttarahalli</td>\n",
       "      <td>3 BHK</td>\n",
       "      <td>NaN</td>\n",
       "      <td>1440</td>\n",
       "      <td>2.0</td>\n",
       "      <td>3.0</td>\n",
       "      <td>62.00</td>\n",
       "    </tr>\n",
       "    <tr>\n",
       "      <th>3</th>\n",
       "      <td>Super built-up  Area</td>\n",
       "      <td>Ready To Move</td>\n",
       "      <td>Lingadheeranahalli</td>\n",
       "      <td>3 BHK</td>\n",
       "      <td>Soiewre</td>\n",
       "      <td>1521</td>\n",
       "      <td>3.0</td>\n",
       "      <td>1.0</td>\n",
       "      <td>95.00</td>\n",
       "    </tr>\n",
       "    <tr>\n",
       "      <th>4</th>\n",
       "      <td>Super built-up  Area</td>\n",
       "      <td>Ready To Move</td>\n",
       "      <td>Kothanur</td>\n",
       "      <td>2 BHK</td>\n",
       "      <td>NaN</td>\n",
       "      <td>1200</td>\n",
       "      <td>2.0</td>\n",
       "      <td>1.0</td>\n",
       "      <td>51.00</td>\n",
       "    </tr>\n",
       "  </tbody>\n",
       "</table>\n",
       "</div>"
      ],
      "text/plain": [
       "              area_type   availability                  location       size  \\\n",
       "0  Super built-up  Area         19-Dec  Electronic City Phase II      2 BHK   \n",
       "1            Plot  Area  Ready To Move          Chikka Tirupathi  4 Bedroom   \n",
       "2        Built-up  Area  Ready To Move               Uttarahalli      3 BHK   \n",
       "3  Super built-up  Area  Ready To Move        Lingadheeranahalli      3 BHK   \n",
       "4  Super built-up  Area  Ready To Move                  Kothanur      2 BHK   \n",
       "\n",
       "   society total_sqft  bath  balcony   price  \n",
       "0  Coomee        1056   2.0      1.0   39.07  \n",
       "1  Theanmp       2600   5.0      3.0  120.00  \n",
       "2      NaN       1440   2.0      3.0   62.00  \n",
       "3  Soiewre       1521   3.0      1.0   95.00  \n",
       "4      NaN       1200   2.0      1.0   51.00  "
      ]
     },
     "execution_count": 151,
     "metadata": {},
     "output_type": "execute_result"
    }
   ],
   "source": [
    "df1 = pd.read_csv(\"bengaluru_house_prices.csv\")\n",
    "df1.head()"
   ]
  },
  {
   "cell_type": "code",
   "execution_count": 152,
   "id": "ae6e9afa",
   "metadata": {},
   "outputs": [
    {
     "data": {
      "text/plain": [
       "(13320, 9)"
      ]
     },
     "execution_count": 152,
     "metadata": {},
     "output_type": "execute_result"
    }
   ],
   "source": [
    "df1.shape"
   ]
  },
  {
   "cell_type": "code",
   "execution_count": 153,
   "id": "51d375cb",
   "metadata": {},
   "outputs": [
    {
     "data": {
      "text/plain": [
       "area_type\n",
       "Built-up  Area          2418\n",
       "Carpet  Area              87\n",
       "Plot  Area              2025\n",
       "Super built-up  Area    8790\n",
       "Name: area_type, dtype: int64"
      ]
     },
     "execution_count": 153,
     "metadata": {},
     "output_type": "execute_result"
    }
   ],
   "source": [
    "df1.groupby('area_type')['area_type'].agg('count')"
   ]
  },
  {
   "cell_type": "code",
   "execution_count": 154,
   "id": "40c51d11",
   "metadata": {},
   "outputs": [
    {
     "data": {
      "text/html": [
       "<div>\n",
       "<style scoped>\n",
       "    .dataframe tbody tr th:only-of-type {\n",
       "        vertical-align: middle;\n",
       "    }\n",
       "\n",
       "    .dataframe tbody tr th {\n",
       "        vertical-align: top;\n",
       "    }\n",
       "\n",
       "    .dataframe thead th {\n",
       "        text-align: right;\n",
       "    }\n",
       "</style>\n",
       "<table border=\"1\" class=\"dataframe\">\n",
       "  <thead>\n",
       "    <tr style=\"text-align: right;\">\n",
       "      <th></th>\n",
       "      <th>area_type</th>\n",
       "      <th>location</th>\n",
       "      <th>size</th>\n",
       "      <th>total_sqft</th>\n",
       "      <th>price</th>\n",
       "    </tr>\n",
       "  </thead>\n",
       "  <tbody>\n",
       "    <tr>\n",
       "      <th>13315</th>\n",
       "      <td>Built-up  Area</td>\n",
       "      <td>Whitefield</td>\n",
       "      <td>5 Bedroom</td>\n",
       "      <td>3453</td>\n",
       "      <td>231.0</td>\n",
       "    </tr>\n",
       "    <tr>\n",
       "      <th>13316</th>\n",
       "      <td>Super built-up  Area</td>\n",
       "      <td>Richards Town</td>\n",
       "      <td>4 BHK</td>\n",
       "      <td>3600</td>\n",
       "      <td>400.0</td>\n",
       "    </tr>\n",
       "    <tr>\n",
       "      <th>13317</th>\n",
       "      <td>Built-up  Area</td>\n",
       "      <td>Raja Rajeshwari Nagar</td>\n",
       "      <td>2 BHK</td>\n",
       "      <td>1141</td>\n",
       "      <td>60.0</td>\n",
       "    </tr>\n",
       "    <tr>\n",
       "      <th>13318</th>\n",
       "      <td>Super built-up  Area</td>\n",
       "      <td>Padmanabhanagar</td>\n",
       "      <td>4 BHK</td>\n",
       "      <td>4689</td>\n",
       "      <td>488.0</td>\n",
       "    </tr>\n",
       "    <tr>\n",
       "      <th>13319</th>\n",
       "      <td>Super built-up  Area</td>\n",
       "      <td>Doddathoguru</td>\n",
       "      <td>1 BHK</td>\n",
       "      <td>550</td>\n",
       "      <td>17.0</td>\n",
       "    </tr>\n",
       "  </tbody>\n",
       "</table>\n",
       "</div>"
      ],
      "text/plain": [
       "                  area_type               location       size total_sqft  \\\n",
       "13315        Built-up  Area             Whitefield  5 Bedroom       3453   \n",
       "13316  Super built-up  Area          Richards Town      4 BHK       3600   \n",
       "13317        Built-up  Area  Raja Rajeshwari Nagar      2 BHK       1141   \n",
       "13318  Super built-up  Area        Padmanabhanagar      4 BHK       4689   \n",
       "13319  Super built-up  Area           Doddathoguru      1 BHK        550   \n",
       "\n",
       "       price  \n",
       "13315  231.0  \n",
       "13316  400.0  \n",
       "13317   60.0  \n",
       "13318  488.0  \n",
       "13319   17.0  "
      ]
     },
     "execution_count": 154,
     "metadata": {},
     "output_type": "execute_result"
    }
   ],
   "source": [
    "df2 = df1.drop(['bath','balcony','availability','society'],axis='columns') #May not be advisible to drop these parameters in the real life scenarios\n",
    "df2.tail()"
   ]
  },
  {
   "cell_type": "code",
   "execution_count": 155,
   "id": "ef032316",
   "metadata": {},
   "outputs": [
    {
     "data": {
      "text/plain": [
       "(13320, 5)"
      ]
     },
     "execution_count": 155,
     "metadata": {},
     "output_type": "execute_result"
    }
   ],
   "source": [
    "df2.shape\n"
   ]
  },
  {
   "cell_type": "markdown",
   "id": "ba56d30a",
   "metadata": {},
   "source": [
    "# Data Cleaning"
   ]
  },
  {
   "cell_type": "markdown",
   "id": "e86d6117",
   "metadata": {},
   "source": [
    "Identifying and Removing the null or empty entries\n"
   ]
  },
  {
   "cell_type": "code",
   "execution_count": 156,
   "id": "46c4448d",
   "metadata": {},
   "outputs": [
    {
     "data": {
      "text/plain": [
       "area_type      0\n",
       "location       1\n",
       "size          16\n",
       "total_sqft     0\n",
       "price          0\n",
       "dtype: int64"
      ]
     },
     "execution_count": 156,
     "metadata": {},
     "output_type": "execute_result"
    }
   ],
   "source": [
    "df2.isnull().sum() "
   ]
  },
  {
   "cell_type": "code",
   "execution_count": 157,
   "id": "c15d2bd2",
   "metadata": {},
   "outputs": [
    {
     "data": {
      "text/plain": [
       "area_type     0\n",
       "location      0\n",
       "size          0\n",
       "total_sqft    0\n",
       "price         0\n",
       "dtype: int64"
      ]
     },
     "execution_count": 157,
     "metadata": {},
     "output_type": "execute_result"
    }
   ],
   "source": [
    "df3 = df2.dropna()\n",
    "df3.isnull().sum()"
   ]
  },
  {
   "cell_type": "markdown",
   "id": "1c150101",
   "metadata": {},
   "source": [
    "Unifying the Size attribute"
   ]
  },
  {
   "cell_type": "code",
   "execution_count": 185,
   "id": "9bd71a0d",
   "metadata": {},
   "outputs": [
    {
     "data": {
      "text/plain": [
       "array(['2 BHK', '4 Bedroom', '3 BHK', '4 BHK', '6 Bedroom', '3 Bedroom',\n",
       "       '1 BHK', '1 RK', '1 Bedroom', '8 Bedroom', '2 Bedroom',\n",
       "       '7 Bedroom', '5 BHK', '7 BHK', '6 BHK', '5 Bedroom', '11 BHK',\n",
       "       '9 BHK', '9 Bedroom', '27 BHK', '10 Bedroom', '11 Bedroom',\n",
       "       '10 BHK', '19 BHK', '16 BHK', '43 Bedroom', '14 BHK', '8 BHK',\n",
       "       '12 Bedroom', '13 BHK', '18 Bedroom'], dtype=object)"
      ]
     },
     "execution_count": 185,
     "metadata": {},
     "output_type": "execute_result"
    }
   ],
   "source": [
    "df3['size'].unique()"
   ]
  },
  {
   "cell_type": "code",
   "execution_count": 159,
   "id": "8e169026",
   "metadata": {},
   "outputs": [
    {
     "data": {
      "text/plain": [
       "31"
      ]
     },
     "execution_count": 159,
     "metadata": {},
     "output_type": "execute_result"
    }
   ],
   "source": [
    "df3['size'].nunique()"
   ]
  },
  {
   "cell_type": "code",
   "execution_count": 160,
   "id": "e74cbd4e",
   "metadata": {},
   "outputs": [
    {
     "name": "stdout",
     "output_type": "stream",
     "text": [
      "69\n"
     ]
    }
   ],
   "source": [
    "roney = lambda a, b : a+b\n",
    "print(roney(68,1))"
   ]
  },
  {
   "cell_type": "code",
   "execution_count": 161,
   "id": "760cde6f",
   "metadata": {},
   "outputs": [
    {
     "name": "stderr",
     "output_type": "stream",
     "text": [
      "C:\\Users\\Roney Patel\\AppData\\Local\\Temp\\ipykernel_14200\\3668831979.py:1: SettingWithCopyWarning: \n",
      "A value is trying to be set on a copy of a slice from a DataFrame.\n",
      "Try using .loc[row_indexer,col_indexer] = value instead\n",
      "\n",
      "See the caveats in the documentation: https://pandas.pydata.org/pandas-docs/stable/user_guide/indexing.html#returning-a-view-versus-a-copy\n",
      "  df3['bhk'] = df3['size'].apply(lambda x: int(x.split(' ')[0]))\n"
     ]
    },
    {
     "data": {
      "text/html": [
       "<div>\n",
       "<style scoped>\n",
       "    .dataframe tbody tr th:only-of-type {\n",
       "        vertical-align: middle;\n",
       "    }\n",
       "\n",
       "    .dataframe tbody tr th {\n",
       "        vertical-align: top;\n",
       "    }\n",
       "\n",
       "    .dataframe thead th {\n",
       "        text-align: right;\n",
       "    }\n",
       "</style>\n",
       "<table border=\"1\" class=\"dataframe\">\n",
       "  <thead>\n",
       "    <tr style=\"text-align: right;\">\n",
       "      <th></th>\n",
       "      <th>area_type</th>\n",
       "      <th>location</th>\n",
       "      <th>size</th>\n",
       "      <th>total_sqft</th>\n",
       "      <th>price</th>\n",
       "      <th>bhk</th>\n",
       "    </tr>\n",
       "  </thead>\n",
       "  <tbody>\n",
       "    <tr>\n",
       "      <th>0</th>\n",
       "      <td>Super built-up  Area</td>\n",
       "      <td>Electronic City Phase II</td>\n",
       "      <td>2 BHK</td>\n",
       "      <td>1056</td>\n",
       "      <td>39.07</td>\n",
       "      <td>2</td>\n",
       "    </tr>\n",
       "    <tr>\n",
       "      <th>1</th>\n",
       "      <td>Plot  Area</td>\n",
       "      <td>Chikka Tirupathi</td>\n",
       "      <td>4 Bedroom</td>\n",
       "      <td>2600</td>\n",
       "      <td>120.00</td>\n",
       "      <td>4</td>\n",
       "    </tr>\n",
       "    <tr>\n",
       "      <th>2</th>\n",
       "      <td>Built-up  Area</td>\n",
       "      <td>Uttarahalli</td>\n",
       "      <td>3 BHK</td>\n",
       "      <td>1440</td>\n",
       "      <td>62.00</td>\n",
       "      <td>3</td>\n",
       "    </tr>\n",
       "    <tr>\n",
       "      <th>3</th>\n",
       "      <td>Super built-up  Area</td>\n",
       "      <td>Lingadheeranahalli</td>\n",
       "      <td>3 BHK</td>\n",
       "      <td>1521</td>\n",
       "      <td>95.00</td>\n",
       "      <td>3</td>\n",
       "    </tr>\n",
       "    <tr>\n",
       "      <th>4</th>\n",
       "      <td>Super built-up  Area</td>\n",
       "      <td>Kothanur</td>\n",
       "      <td>2 BHK</td>\n",
       "      <td>1200</td>\n",
       "      <td>51.00</td>\n",
       "      <td>2</td>\n",
       "    </tr>\n",
       "    <tr>\n",
       "      <th>5</th>\n",
       "      <td>Super built-up  Area</td>\n",
       "      <td>Whitefield</td>\n",
       "      <td>2 BHK</td>\n",
       "      <td>1170</td>\n",
       "      <td>38.00</td>\n",
       "      <td>2</td>\n",
       "    </tr>\n",
       "    <tr>\n",
       "      <th>6</th>\n",
       "      <td>Super built-up  Area</td>\n",
       "      <td>Old Airport Road</td>\n",
       "      <td>4 BHK</td>\n",
       "      <td>2732</td>\n",
       "      <td>204.00</td>\n",
       "      <td>4</td>\n",
       "    </tr>\n",
       "    <tr>\n",
       "      <th>7</th>\n",
       "      <td>Super built-up  Area</td>\n",
       "      <td>Rajaji Nagar</td>\n",
       "      <td>4 BHK</td>\n",
       "      <td>3300</td>\n",
       "      <td>600.00</td>\n",
       "      <td>4</td>\n",
       "    </tr>\n",
       "    <tr>\n",
       "      <th>8</th>\n",
       "      <td>Super built-up  Area</td>\n",
       "      <td>Marathahalli</td>\n",
       "      <td>3 BHK</td>\n",
       "      <td>1310</td>\n",
       "      <td>63.25</td>\n",
       "      <td>3</td>\n",
       "    </tr>\n",
       "    <tr>\n",
       "      <th>9</th>\n",
       "      <td>Plot  Area</td>\n",
       "      <td>Gandhi Bazar</td>\n",
       "      <td>6 Bedroom</td>\n",
       "      <td>1020</td>\n",
       "      <td>370.00</td>\n",
       "      <td>6</td>\n",
       "    </tr>\n",
       "  </tbody>\n",
       "</table>\n",
       "</div>"
      ],
      "text/plain": [
       "              area_type                  location       size total_sqft  \\\n",
       "0  Super built-up  Area  Electronic City Phase II      2 BHK       1056   \n",
       "1            Plot  Area          Chikka Tirupathi  4 Bedroom       2600   \n",
       "2        Built-up  Area               Uttarahalli      3 BHK       1440   \n",
       "3  Super built-up  Area        Lingadheeranahalli      3 BHK       1521   \n",
       "4  Super built-up  Area                  Kothanur      2 BHK       1200   \n",
       "5  Super built-up  Area                Whitefield      2 BHK       1170   \n",
       "6  Super built-up  Area          Old Airport Road      4 BHK       2732   \n",
       "7  Super built-up  Area              Rajaji Nagar      4 BHK       3300   \n",
       "8  Super built-up  Area              Marathahalli      3 BHK       1310   \n",
       "9            Plot  Area              Gandhi Bazar  6 Bedroom       1020   \n",
       "\n",
       "    price  bhk  \n",
       "0   39.07    2  \n",
       "1  120.00    4  \n",
       "2   62.00    3  \n",
       "3   95.00    3  \n",
       "4   51.00    2  \n",
       "5   38.00    2  \n",
       "6  204.00    4  \n",
       "7  600.00    4  \n",
       "8   63.25    3  \n",
       "9  370.00    6  "
      ]
     },
     "execution_count": 161,
     "metadata": {},
     "output_type": "execute_result"
    }
   ],
   "source": [
    "df3['bhk'] = df3['size'].apply(lambda x: int(x.split(' ')[0]))\n",
    "df3.head(10)"
   ]
  },
  {
   "cell_type": "code",
   "execution_count": 162,
   "id": "0c52051e",
   "metadata": {},
   "outputs": [
    {
     "data": {
      "text/plain": [
       "(array([ 2,  4,  3,  6,  1,  8,  7,  5, 11,  9, 27, 10, 19, 16, 43, 14, 12,\n",
       "        13, 18]),\n",
       "                   area_type                  location total_sqft   price  bhk\n",
       " 0      Super built-up  Area  Electronic City Phase II       1056   39.07    2\n",
       " 1                Plot  Area          Chikka Tirupathi       2600  120.00    4\n",
       " 2            Built-up  Area               Uttarahalli       1440   62.00    3\n",
       " 3      Super built-up  Area        Lingadheeranahalli       1521   95.00    3\n",
       " 4      Super built-up  Area                  Kothanur       1200   51.00    2\n",
       " ...                     ...                       ...        ...     ...  ...\n",
       " 13315        Built-up  Area                Whitefield       3453  231.00    5\n",
       " 13316  Super built-up  Area             Richards Town       3600  400.00    4\n",
       " 13317        Built-up  Area     Raja Rajeshwari Nagar       1141   60.00    2\n",
       " 13318  Super built-up  Area           Padmanabhanagar       4689  488.00    4\n",
       " 13319  Super built-up  Area              Doddathoguru        550   17.00    1\n",
       " \n",
       " [13303 rows x 5 columns],\n",
       " (13303, 6))"
      ]
     },
     "execution_count": 162,
     "metadata": {},
     "output_type": "execute_result"
    }
   ],
   "source": [
    "df3['bhk'].unique(), df3.drop(['size'], axis='columns'), df3.shape,  "
   ]
  },
  {
   "cell_type": "code",
   "execution_count": 163,
   "id": "0d6ea1e7",
   "metadata": {},
   "outputs": [
    {
     "data": {
      "text/plain": [
       "(                 area_type                   location        size total_sqft  \\\n",
       " 1718  Super built-up  Area  2Electronic City Phase II      27 BHK       8000   \n",
       " 4684            Plot  Area                Munnekollal  43 Bedroom       2400   \n",
       " \n",
       "       price  bhk  \n",
       " 1718  230.0   27  \n",
       " 4684  660.0   43  ,\n",
       " 0        False\n",
       " 1        False\n",
       " 2        False\n",
       " 3        False\n",
       " 4        False\n",
       "          ...  \n",
       " 13315    False\n",
       " 13316    False\n",
       " 13317    False\n",
       " 13318    False\n",
       " 13319    False\n",
       " Name: bhk, Length: 13303, dtype: bool)"
      ]
     },
     "execution_count": 163,
     "metadata": {},
     "output_type": "execute_result"
    }
   ],
   "source": [
    "df3[df3.bhk>20], df3.bhk>20"
   ]
  },
  {
   "cell_type": "code",
   "execution_count": 165,
   "id": "e4e94f16",
   "metadata": {},
   "outputs": [],
   "source": [
    "def is_float(x):\n",
    "    try:\n",
    "        float(x)\n",
    "    except:\n",
    "        return False\n",
    "    return True"
   ]
  },
  {
   "cell_type": "code",
   "execution_count": 166,
   "id": "a074deb6",
   "metadata": {},
   "outputs": [
    {
     "data": {
      "text/html": [
       "<div>\n",
       "<style scoped>\n",
       "    .dataframe tbody tr th:only-of-type {\n",
       "        vertical-align: middle;\n",
       "    }\n",
       "\n",
       "    .dataframe tbody tr th {\n",
       "        vertical-align: top;\n",
       "    }\n",
       "\n",
       "    .dataframe thead th {\n",
       "        text-align: right;\n",
       "    }\n",
       "</style>\n",
       "<table border=\"1\" class=\"dataframe\">\n",
       "  <thead>\n",
       "    <tr style=\"text-align: right;\">\n",
       "      <th></th>\n",
       "      <th>area_type</th>\n",
       "      <th>location</th>\n",
       "      <th>size</th>\n",
       "      <th>total_sqft</th>\n",
       "      <th>price</th>\n",
       "      <th>bhk</th>\n",
       "    </tr>\n",
       "  </thead>\n",
       "  <tbody>\n",
       "    <tr>\n",
       "      <th>30</th>\n",
       "      <td>Super built-up  Area</td>\n",
       "      <td>Yelahanka</td>\n",
       "      <td>4 BHK</td>\n",
       "      <td>2100 - 2850</td>\n",
       "      <td>186.000</td>\n",
       "      <td>4</td>\n",
       "    </tr>\n",
       "    <tr>\n",
       "      <th>56</th>\n",
       "      <td>Built-up  Area</td>\n",
       "      <td>Devanahalli</td>\n",
       "      <td>4 Bedroom</td>\n",
       "      <td>3010 - 3410</td>\n",
       "      <td>192.000</td>\n",
       "      <td>4</td>\n",
       "    </tr>\n",
       "    <tr>\n",
       "      <th>81</th>\n",
       "      <td>Built-up  Area</td>\n",
       "      <td>Hennur Road</td>\n",
       "      <td>4 Bedroom</td>\n",
       "      <td>2957 - 3450</td>\n",
       "      <td>224.500</td>\n",
       "      <td>4</td>\n",
       "    </tr>\n",
       "    <tr>\n",
       "      <th>122</th>\n",
       "      <td>Super built-up  Area</td>\n",
       "      <td>Hebbal</td>\n",
       "      <td>4 BHK</td>\n",
       "      <td>3067 - 8156</td>\n",
       "      <td>477.000</td>\n",
       "      <td>4</td>\n",
       "    </tr>\n",
       "    <tr>\n",
       "      <th>137</th>\n",
       "      <td>Super built-up  Area</td>\n",
       "      <td>8th Phase JP Nagar</td>\n",
       "      <td>2 BHK</td>\n",
       "      <td>1042 - 1105</td>\n",
       "      <td>54.005</td>\n",
       "      <td>2</td>\n",
       "    </tr>\n",
       "    <tr>\n",
       "      <th>165</th>\n",
       "      <td>Super built-up  Area</td>\n",
       "      <td>Sarjapur</td>\n",
       "      <td>2 BHK</td>\n",
       "      <td>1145 - 1340</td>\n",
       "      <td>43.490</td>\n",
       "      <td>2</td>\n",
       "    </tr>\n",
       "    <tr>\n",
       "      <th>188</th>\n",
       "      <td>Super built-up  Area</td>\n",
       "      <td>KR Puram</td>\n",
       "      <td>2 BHK</td>\n",
       "      <td>1015 - 1540</td>\n",
       "      <td>56.800</td>\n",
       "      <td>2</td>\n",
       "    </tr>\n",
       "    <tr>\n",
       "      <th>224</th>\n",
       "      <td>Super built-up  Area</td>\n",
       "      <td>Devanahalli</td>\n",
       "      <td>3 BHK</td>\n",
       "      <td>1520 - 1740</td>\n",
       "      <td>74.820</td>\n",
       "      <td>3</td>\n",
       "    </tr>\n",
       "    <tr>\n",
       "      <th>410</th>\n",
       "      <td>Super built-up  Area</td>\n",
       "      <td>Kengeri</td>\n",
       "      <td>1 BHK</td>\n",
       "      <td>34.46Sq. Meter</td>\n",
       "      <td>18.500</td>\n",
       "      <td>1</td>\n",
       "    </tr>\n",
       "    <tr>\n",
       "      <th>549</th>\n",
       "      <td>Super built-up  Area</td>\n",
       "      <td>Hennur Road</td>\n",
       "      <td>2 BHK</td>\n",
       "      <td>1195 - 1440</td>\n",
       "      <td>63.770</td>\n",
       "      <td>2</td>\n",
       "    </tr>\n",
       "  </tbody>\n",
       "</table>\n",
       "</div>"
      ],
      "text/plain": [
       "                area_type            location       size      total_sqft  \\\n",
       "30   Super built-up  Area           Yelahanka      4 BHK     2100 - 2850   \n",
       "56         Built-up  Area         Devanahalli  4 Bedroom     3010 - 3410   \n",
       "81         Built-up  Area         Hennur Road  4 Bedroom     2957 - 3450   \n",
       "122  Super built-up  Area              Hebbal      4 BHK     3067 - 8156   \n",
       "137  Super built-up  Area  8th Phase JP Nagar      2 BHK     1042 - 1105   \n",
       "165  Super built-up  Area            Sarjapur      2 BHK     1145 - 1340   \n",
       "188  Super built-up  Area            KR Puram      2 BHK     1015 - 1540   \n",
       "224  Super built-up  Area         Devanahalli      3 BHK     1520 - 1740   \n",
       "410  Super built-up  Area             Kengeri      1 BHK  34.46Sq. Meter   \n",
       "549  Super built-up  Area         Hennur Road      2 BHK     1195 - 1440   \n",
       "\n",
       "       price  bhk  \n",
       "30   186.000    4  \n",
       "56   192.000    4  \n",
       "81   224.500    4  \n",
       "122  477.000    4  \n",
       "137   54.005    2  \n",
       "165   43.490    2  \n",
       "188   56.800    2  \n",
       "224   74.820    3  \n",
       "410   18.500    1  \n",
       "549   63.770    2  "
      ]
     },
     "execution_count": 166,
     "metadata": {},
     "output_type": "execute_result"
    }
   ],
   "source": [
    "df3[~df3.total_sqft.apply(is_float)].head(10)  #Use negation so that the entries with output of False i.e other than integers are displayed"
   ]
  },
  {
   "cell_type": "markdown",
   "id": "07af1e7b",
   "metadata": {},
   "source": [
    "Look out at the ninth entry with the index of 410, it is in sq meter as well as has string input in the cell"
   ]
  },
  {
   "cell_type": "code",
   "execution_count": 167,
   "id": "fa11b49a",
   "metadata": {},
   "outputs": [],
   "source": [
    "def convert_range(x):\n",
    "    token = x.split('-')\n",
    "    if len(token) == 2:\n",
    "        return (float(token[0])+ float(token[1]))/2\n",
    "    try:\n",
    "        return float(x)\n",
    "    except:\n",
    "        return None"
   ]
  },
  {
   "cell_type": "code",
   "execution_count": 168,
   "id": "ff62631d",
   "metadata": {},
   "outputs": [
    {
     "name": "stdout",
     "output_type": "stream",
     "text": [
      "\n",
      "\n"
     ]
    },
    {
     "data": {
      "text/plain": [
       "(                  area_type location  total_sqft  price  bhk\n",
       " 32     Super built-up  Area   Hebbal      1760.0  123.0    3\n",
       " 122    Super built-up  Area   Hebbal      5611.5  477.0    4\n",
       " 228    Super built-up  Area   Hebbal      1900.0  119.0    3\n",
       " 293    Super built-up  Area   Hebbal      1349.0   98.2    2\n",
       " 370    Super built-up  Area   Hebbal      2483.0  212.0    4\n",
       " ...                     ...      ...         ...    ...  ...\n",
       " 13075        Built-up  Area   Hebbal      2250.0  219.0    3\n",
       " 13092  Super built-up  Area   Hebbal      4000.0  440.0    4\n",
       " 13105  Super built-up  Area   Hebbal      1349.0   98.0    2\n",
       " 13208  Super built-up  Area   Hebbal      4000.0  370.0    4\n",
       " 13289  Super built-up  Area   Hebbal      1349.0   96.8    2\n",
       " \n",
       " [177 rows x 5 columns],\n",
       " None,\n",
       "                 area_type location  total_sqft  price  bhk\n",
       " 410  Super built-up  Area  Kengeri         NaN   18.5    1)"
      ]
     },
     "execution_count": 168,
     "metadata": {},
     "output_type": "execute_result"
    }
   ],
   "source": [
    "df4 = df3.drop(['size'],axis='columns')\n",
    "df4.total_sqft = df4.total_sqft.apply(convert_range)\n",
    "df4[df4.location == 'Hebbal'], print('\\n'), df4[df4.index == 410]"
   ]
  },
  {
   "cell_type": "markdown",
   "id": "8a8adbc9",
   "metadata": {},
   "source": [
    "Observe that the entry 122 now has a finite float value\n"
   ]
  },
  {
   "cell_type": "code",
   "execution_count": 169,
   "id": "558b4c4a",
   "metadata": {},
   "outputs": [
    {
     "data": {
      "text/plain": [
       "(area_type     Super built-up  Area\n",
       " location                   Kengeri\n",
       " total_sqft                     NaN\n",
       " price                         18.5\n",
       " bhk                              1\n",
       " Name: 410, dtype: object,\n",
       " area_type     46\n",
       " location      46\n",
       " total_sqft     0\n",
       " price         46\n",
       " bhk           46\n",
       " dtype: int64)"
      ]
     },
     "execution_count": 169,
     "metadata": {},
     "output_type": "execute_result"
    }
   ],
   "source": [
    "df4.loc[410],   df4[df4.total_sqft.isnull()].count()"
   ]
  },
  {
   "cell_type": "markdown",
   "id": "a44ab4e7",
   "metadata": {},
   "source": [
    "# Feature Engineering and Dimensionality Reduction\n"
   ]
  },
  {
   "cell_type": "markdown",
   "id": "a57d5ff2",
   "metadata": {},
   "source": [
    "Lets create a column named price_per_sqft\n",
    "Given price here is in Lakhs\n"
   ]
  },
  {
   "cell_type": "code",
   "execution_count": 170,
   "id": "e5b8b9a4",
   "metadata": {},
   "outputs": [
    {
     "data": {
      "text/html": [
       "<div>\n",
       "<style scoped>\n",
       "    .dataframe tbody tr th:only-of-type {\n",
       "        vertical-align: middle;\n",
       "    }\n",
       "\n",
       "    .dataframe tbody tr th {\n",
       "        vertical-align: top;\n",
       "    }\n",
       "\n",
       "    .dataframe thead th {\n",
       "        text-align: right;\n",
       "    }\n",
       "</style>\n",
       "<table border=\"1\" class=\"dataframe\">\n",
       "  <thead>\n",
       "    <tr style=\"text-align: right;\">\n",
       "      <th></th>\n",
       "      <th>area_type</th>\n",
       "      <th>location</th>\n",
       "      <th>total_sqft</th>\n",
       "      <th>price</th>\n",
       "      <th>bhk</th>\n",
       "      <th>price_per_sqft</th>\n",
       "    </tr>\n",
       "  </thead>\n",
       "  <tbody>\n",
       "    <tr>\n",
       "      <th>0</th>\n",
       "      <td>Super built-up  Area</td>\n",
       "      <td>Electronic City Phase II</td>\n",
       "      <td>1056.0</td>\n",
       "      <td>39.07</td>\n",
       "      <td>2</td>\n",
       "      <td>3699.810606</td>\n",
       "    </tr>\n",
       "    <tr>\n",
       "      <th>1</th>\n",
       "      <td>Plot  Area</td>\n",
       "      <td>Chikka Tirupathi</td>\n",
       "      <td>2600.0</td>\n",
       "      <td>120.00</td>\n",
       "      <td>4</td>\n",
       "      <td>4615.384615</td>\n",
       "    </tr>\n",
       "    <tr>\n",
       "      <th>2</th>\n",
       "      <td>Built-up  Area</td>\n",
       "      <td>Uttarahalli</td>\n",
       "      <td>1440.0</td>\n",
       "      <td>62.00</td>\n",
       "      <td>3</td>\n",
       "      <td>4305.555556</td>\n",
       "    </tr>\n",
       "    <tr>\n",
       "      <th>3</th>\n",
       "      <td>Super built-up  Area</td>\n",
       "      <td>Lingadheeranahalli</td>\n",
       "      <td>1521.0</td>\n",
       "      <td>95.00</td>\n",
       "      <td>3</td>\n",
       "      <td>6245.890861</td>\n",
       "    </tr>\n",
       "    <tr>\n",
       "      <th>4</th>\n",
       "      <td>Super built-up  Area</td>\n",
       "      <td>Kothanur</td>\n",
       "      <td>1200.0</td>\n",
       "      <td>51.00</td>\n",
       "      <td>2</td>\n",
       "      <td>4250.000000</td>\n",
       "    </tr>\n",
       "  </tbody>\n",
       "</table>\n",
       "</div>"
      ],
      "text/plain": [
       "              area_type                  location  total_sqft   price  bhk  \\\n",
       "0  Super built-up  Area  Electronic City Phase II      1056.0   39.07    2   \n",
       "1            Plot  Area          Chikka Tirupathi      2600.0  120.00    4   \n",
       "2        Built-up  Area               Uttarahalli      1440.0   62.00    3   \n",
       "3  Super built-up  Area        Lingadheeranahalli      1521.0   95.00    3   \n",
       "4  Super built-up  Area                  Kothanur      1200.0   51.00    2   \n",
       "\n",
       "   price_per_sqft  \n",
       "0     3699.810606  \n",
       "1     4615.384615  \n",
       "2     4305.555556  \n",
       "3     6245.890861  \n",
       "4     4250.000000  "
      ]
     },
     "execution_count": 170,
     "metadata": {},
     "output_type": "execute_result"
    }
   ],
   "source": [
    "df4['price_per_sqft'] = df4['price']*100000/df4['total_sqft']\n",
    "df4.head()"
   ]
  },
  {
   "cell_type": "code",
   "execution_count": 171,
   "id": "b207a207",
   "metadata": {},
   "outputs": [
    {
     "data": {
      "text/plain": [
       "1304"
      ]
     },
     "execution_count": 171,
     "metadata": {},
     "output_type": "execute_result"
    }
   ],
   "source": [
    "# df4.location.nunique()\n",
    "len(df4.location.unique())"
   ]
  },
  {
   "cell_type": "markdown",
   "id": "82d101ad",
   "metadata": {},
   "source": [
    "GROUP BY FUNCTION"
   ]
  },
  {
   "cell_type": "code",
   "execution_count": 172,
   "id": "3d995f0b",
   "metadata": {},
   "outputs": [
    {
     "data": {
      "text/plain": [
       "location\n",
       "Grihalakshmi Layout                    625000.000000\n",
       "Srirampuram                            481004.144004\n",
       "Suragajakkanahalli                     339363.636364\n",
       "Weavers Colony                          68801.313629\n",
       "Raghuvanahalli                          38647.926429\n",
       "                                           ...      \n",
       "5 Bedroom Farm House in Lakshmipura              NaN\n",
       "Chickpet                                         NaN\n",
       "Marathi Layout                                   NaN\n",
       "Narasapura                                       NaN\n",
       "arudi                                            NaN\n",
       "Name: price_per_sqft, Length: 1304, dtype: float64"
      ]
     },
     "execution_count": 172,
     "metadata": {},
     "output_type": "execute_result"
    }
   ],
   "source": [
    "df4.groupby('location')['price_per_sqft'].mean().sort_values(ascending=False)"
   ]
  },
  {
   "cell_type": "code",
   "execution_count": 173,
   "id": "17cbd35e",
   "metadata": {},
   "outputs": [
    {
     "data": {
      "text/html": [
       "<div>\n",
       "<style scoped>\n",
       "    .dataframe tbody tr th:only-of-type {\n",
       "        vertical-align: middle;\n",
       "    }\n",
       "\n",
       "    .dataframe tbody tr th {\n",
       "        vertical-align: top;\n",
       "    }\n",
       "\n",
       "    .dataframe thead th {\n",
       "        text-align: right;\n",
       "    }\n",
       "</style>\n",
       "<table border=\"1\" class=\"dataframe\">\n",
       "  <thead>\n",
       "    <tr style=\"text-align: right;\">\n",
       "      <th></th>\n",
       "      <th>area_type</th>\n",
       "      <th>location</th>\n",
       "      <th>total_sqft</th>\n",
       "      <th>price</th>\n",
       "      <th>bhk</th>\n",
       "      <th>price_per_sqft</th>\n",
       "    </tr>\n",
       "  </thead>\n",
       "  <tbody>\n",
       "    <tr>\n",
       "      <th>4086</th>\n",
       "      <td>Plot  Area</td>\n",
       "      <td>Sarjapur  Road</td>\n",
       "      <td>1.0</td>\n",
       "      <td>120.0</td>\n",
       "      <td>4</td>\n",
       "      <td>12000000.0</td>\n",
       "    </tr>\n",
       "  </tbody>\n",
       "</table>\n",
       "</div>"
      ],
      "text/plain": [
       "       area_type        location  total_sqft  price  bhk  price_per_sqft\n",
       "4086  Plot  Area  Sarjapur  Road         1.0  120.0    4      12000000.0"
      ]
     },
     "execution_count": 173,
     "metadata": {},
     "output_type": "execute_result"
    }
   ],
   "source": [
    "df4[df4.price_per_sqft == df4.price_per_sqft.max()]"
   ]
  },
  {
   "cell_type": "markdown",
   "id": "883a52c3",
   "metadata": {},
   "source": [
    "Found an anomaly in DataSet because 1 sqft cant be priced at 1.2Cr."
   ]
  },
  {
   "cell_type": "code",
   "execution_count": 174,
   "id": "bbce2cf6",
   "metadata": {},
   "outputs": [
    {
     "data": {
      "text/html": [
       "<div>\n",
       "<style scoped>\n",
       "    .dataframe tbody tr th:only-of-type {\n",
       "        vertical-align: middle;\n",
       "    }\n",
       "\n",
       "    .dataframe tbody tr th {\n",
       "        vertical-align: top;\n",
       "    }\n",
       "\n",
       "    .dataframe thead th {\n",
       "        text-align: right;\n",
       "    }\n",
       "</style>\n",
       "<table border=\"1\" class=\"dataframe\">\n",
       "  <thead>\n",
       "    <tr style=\"text-align: right;\">\n",
       "      <th></th>\n",
       "      <th>area_type</th>\n",
       "      <th>location</th>\n",
       "      <th>total_sqft</th>\n",
       "      <th>price</th>\n",
       "      <th>bhk</th>\n",
       "      <th>price_per_sqft</th>\n",
       "    </tr>\n",
       "  </thead>\n",
       "  <tbody>\n",
       "    <tr>\n",
       "      <th>4086</th>\n",
       "      <td>Plot  Area</td>\n",
       "      <td>Sarjapur  Road</td>\n",
       "      <td>1.0</td>\n",
       "      <td>120.0</td>\n",
       "      <td>4</td>\n",
       "      <td>1.200000e+07</td>\n",
       "    </tr>\n",
       "    <tr>\n",
       "      <th>4972</th>\n",
       "      <td>Built-up  Area</td>\n",
       "      <td>Srirampuram</td>\n",
       "      <td>5.0</td>\n",
       "      <td>115.0</td>\n",
       "      <td>7</td>\n",
       "      <td>2.300000e+06</td>\n",
       "    </tr>\n",
       "    <tr>\n",
       "      <th>349</th>\n",
       "      <td>Plot  Area</td>\n",
       "      <td>Suragajakkanahalli</td>\n",
       "      <td>11.0</td>\n",
       "      <td>74.0</td>\n",
       "      <td>3</td>\n",
       "      <td>6.727273e+05</td>\n",
       "    </tr>\n",
       "    <tr>\n",
       "      <th>1122</th>\n",
       "      <td>Built-up  Area</td>\n",
       "      <td>Grihalakshmi Layout</td>\n",
       "      <td>24.0</td>\n",
       "      <td>150.0</td>\n",
       "      <td>5</td>\n",
       "      <td>6.250000e+05</td>\n",
       "    </tr>\n",
       "    <tr>\n",
       "      <th>11558</th>\n",
       "      <td>Plot  Area</td>\n",
       "      <td>Whitefield</td>\n",
       "      <td>60.0</td>\n",
       "      <td>218.0</td>\n",
       "      <td>4</td>\n",
       "      <td>3.633333e+05</td>\n",
       "    </tr>\n",
       "    <tr>\n",
       "      <th>1020</th>\n",
       "      <td>Carpet  Area</td>\n",
       "      <td>Weavers Colony</td>\n",
       "      <td>15.0</td>\n",
       "      <td>30.0</td>\n",
       "      <td>1</td>\n",
       "      <td>2.000000e+05</td>\n",
       "    </tr>\n",
       "    <tr>\n",
       "      <th>7657</th>\n",
       "      <td>Built-up  Area</td>\n",
       "      <td>Raghuvanahalli</td>\n",
       "      <td>425.0</td>\n",
       "      <td>750.0</td>\n",
       "      <td>1</td>\n",
       "      <td>1.764706e+05</td>\n",
       "    </tr>\n",
       "    <tr>\n",
       "      <th>7088</th>\n",
       "      <td>Built-up  Area</td>\n",
       "      <td>Srirampuram</td>\n",
       "      <td>650.0</td>\n",
       "      <td>500.0</td>\n",
       "      <td>1</td>\n",
       "      <td>7.692308e+04</td>\n",
       "    </tr>\n",
       "    <tr>\n",
       "      <th>6421</th>\n",
       "      <td>Plot  Area</td>\n",
       "      <td>Bommenahalli</td>\n",
       "      <td>2940.0</td>\n",
       "      <td>2250.0</td>\n",
       "      <td>4</td>\n",
       "      <td>7.653061e+04</td>\n",
       "    </tr>\n",
       "    <tr>\n",
       "      <th>12443</th>\n",
       "      <td>Plot  Area</td>\n",
       "      <td>Dollars Colony</td>\n",
       "      <td>4350.0</td>\n",
       "      <td>2600.0</td>\n",
       "      <td>4</td>\n",
       "      <td>5.977011e+04</td>\n",
       "    </tr>\n",
       "    <tr>\n",
       "      <th>8398</th>\n",
       "      <td>Super built-up  Area</td>\n",
       "      <td>Bannerghatta Road</td>\n",
       "      <td>2500.0</td>\n",
       "      <td>1400.0</td>\n",
       "      <td>5</td>\n",
       "      <td>5.600000e+04</td>\n",
       "    </tr>\n",
       "    <tr>\n",
       "      <th>7883</th>\n",
       "      <td>Super built-up  Area</td>\n",
       "      <td>Vasanth nagar</td>\n",
       "      <td>2000.0</td>\n",
       "      <td>1063.0</td>\n",
       "      <td>4</td>\n",
       "      <td>5.315000e+04</td>\n",
       "    </tr>\n",
       "    <tr>\n",
       "      <th>9535</th>\n",
       "      <td>Plot  Area</td>\n",
       "      <td>Indira Nagar</td>\n",
       "      <td>2400.0</td>\n",
       "      <td>1250.0</td>\n",
       "      <td>4</td>\n",
       "      <td>5.208333e+04</td>\n",
       "    </tr>\n",
       "    <tr>\n",
       "      <th>5970</th>\n",
       "      <td>Plot  Area</td>\n",
       "      <td>Mysore Road</td>\n",
       "      <td>45.0</td>\n",
       "      <td>23.0</td>\n",
       "      <td>1</td>\n",
       "      <td>5.111111e+04</td>\n",
       "    </tr>\n",
       "    <tr>\n",
       "      <th>13067</th>\n",
       "      <td>Plot  Area</td>\n",
       "      <td>Defence Colony</td>\n",
       "      <td>7150.0</td>\n",
       "      <td>3600.0</td>\n",
       "      <td>10</td>\n",
       "      <td>5.034965e+04</td>\n",
       "    </tr>\n",
       "    <tr>\n",
       "      <th>1567</th>\n",
       "      <td>Plot  Area</td>\n",
       "      <td>Uttarahalli</td>\n",
       "      <td>400.0</td>\n",
       "      <td>200.0</td>\n",
       "      <td>5</td>\n",
       "      <td>5.000000e+04</td>\n",
       "    </tr>\n",
       "    <tr>\n",
       "      <th>5042</th>\n",
       "      <td>Plot  Area</td>\n",
       "      <td>2nd Block Jayanagar</td>\n",
       "      <td>825.0</td>\n",
       "      <td>400.0</td>\n",
       "      <td>6</td>\n",
       "      <td>4.848485e+04</td>\n",
       "    </tr>\n",
       "    <tr>\n",
       "      <th>9195</th>\n",
       "      <td>Super built-up  Area</td>\n",
       "      <td>Whitefield</td>\n",
       "      <td>1496.0</td>\n",
       "      <td>718.0</td>\n",
       "      <td>3</td>\n",
       "      <td>4.799465e+04</td>\n",
       "    </tr>\n",
       "    <tr>\n",
       "      <th>9737</th>\n",
       "      <td>Built-up  Area</td>\n",
       "      <td>Ngef Layout</td>\n",
       "      <td>2100.0</td>\n",
       "      <td>1000.0</td>\n",
       "      <td>4</td>\n",
       "      <td>4.761905e+04</td>\n",
       "    </tr>\n",
       "    <tr>\n",
       "      <th>13305</th>\n",
       "      <td>Carpet  Area</td>\n",
       "      <td>Hulimavu</td>\n",
       "      <td>500.0</td>\n",
       "      <td>220.0</td>\n",
       "      <td>1</td>\n",
       "      <td>4.400000e+04</td>\n",
       "    </tr>\n",
       "  </tbody>\n",
       "</table>\n",
       "</div>"
      ],
      "text/plain": [
       "                  area_type             location  total_sqft   price  bhk  \\\n",
       "4086             Plot  Area       Sarjapur  Road         1.0   120.0    4   \n",
       "4972         Built-up  Area          Srirampuram         5.0   115.0    7   \n",
       "349              Plot  Area   Suragajakkanahalli        11.0    74.0    3   \n",
       "1122         Built-up  Area  Grihalakshmi Layout        24.0   150.0    5   \n",
       "11558            Plot  Area           Whitefield        60.0   218.0    4   \n",
       "1020           Carpet  Area       Weavers Colony        15.0    30.0    1   \n",
       "7657         Built-up  Area       Raghuvanahalli       425.0   750.0    1   \n",
       "7088         Built-up  Area          Srirampuram       650.0   500.0    1   \n",
       "6421             Plot  Area         Bommenahalli      2940.0  2250.0    4   \n",
       "12443            Plot  Area       Dollars Colony      4350.0  2600.0    4   \n",
       "8398   Super built-up  Area    Bannerghatta Road      2500.0  1400.0    5   \n",
       "7883   Super built-up  Area        Vasanth nagar      2000.0  1063.0    4   \n",
       "9535             Plot  Area         Indira Nagar      2400.0  1250.0    4   \n",
       "5970             Plot  Area          Mysore Road        45.0    23.0    1   \n",
       "13067            Plot  Area       Defence Colony      7150.0  3600.0   10   \n",
       "1567             Plot  Area          Uttarahalli       400.0   200.0    5   \n",
       "5042             Plot  Area  2nd Block Jayanagar       825.0   400.0    6   \n",
       "9195   Super built-up  Area           Whitefield      1496.0   718.0    3   \n",
       "9737         Built-up  Area          Ngef Layout      2100.0  1000.0    4   \n",
       "13305          Carpet  Area             Hulimavu       500.0   220.0    1   \n",
       "\n",
       "       price_per_sqft  \n",
       "4086     1.200000e+07  \n",
       "4972     2.300000e+06  \n",
       "349      6.727273e+05  \n",
       "1122     6.250000e+05  \n",
       "11558    3.633333e+05  \n",
       "1020     2.000000e+05  \n",
       "7657     1.764706e+05  \n",
       "7088     7.692308e+04  \n",
       "6421     7.653061e+04  \n",
       "12443    5.977011e+04  \n",
       "8398     5.600000e+04  \n",
       "7883     5.315000e+04  \n",
       "9535     5.208333e+04  \n",
       "5970     5.111111e+04  \n",
       "13067    5.034965e+04  \n",
       "1567     5.000000e+04  \n",
       "5042     4.848485e+04  \n",
       "9195     4.799465e+04  \n",
       "9737     4.761905e+04  \n",
       "13305    4.400000e+04  "
      ]
     },
     "execution_count": 174,
     "metadata": {},
     "output_type": "execute_result"
    }
   ],
   "source": [
    "df4.nlargest(20, 'price_per_sqft')"
   ]
  },
  {
   "cell_type": "code",
   "execution_count": 175,
   "id": "1c2e0002",
   "metadata": {},
   "outputs": [
    {
     "data": {
      "text/plain": [
       "(                 area_type          location  total_sqft  price  bhk  \\\n",
       " 1894            Plot  Area       Nelamangala     52272.0  140.0    3   \n",
       " 674         Built-up  Area         Yelahanka     35000.0  130.0    3   \n",
       " 5393  Super built-up  Area  Doddabommasandra     42000.0  175.0    9   \n",
       " \n",
       "       price_per_sqft  \n",
       " 1894      267.829813  \n",
       " 674       371.428571  \n",
       " 5393      416.666667  ,\n",
       "        area_type        location  total_sqft  price  bhk  price_per_sqft\n",
       " 4086  Plot  Area  Sarjapur  Road         1.0  120.0    4      12000000.0)"
      ]
     },
     "execution_count": 175,
     "metadata": {},
     "output_type": "execute_result"
    }
   ],
   "source": [
    "df4.nsmallest(3, 'price_per_sqft'), df4.nlargest(1, 'price_per_sqft'), "
   ]
  },
  {
   "cell_type": "code",
   "execution_count": 176,
   "id": "f4238169",
   "metadata": {},
   "outputs": [
    {
     "data": {
      "text/plain": [
       "location\n",
       "Whitefield                                            539\n",
       "Sarjapur  Road                                        397\n",
       "Electronic City                                       302\n",
       "Kanakpura Road                                        273\n",
       "Thanisandra                                           234\n",
       "                                                     ... \n",
       "bsk 6th stage 2ad block near sri conversation hall      1\n",
       "beml layout, basaveshwara nagar                         1\n",
       "basaveshwarnagar                                        1\n",
       "banashankari stage iii sa                               1\n",
       "asha township, off hennur road                          1\n",
       "Name: location, Length: 1304, dtype: int64"
      ]
     },
     "execution_count": 176,
     "metadata": {},
     "output_type": "execute_result"
    }
   ],
   "source": [
    "df4.groupby('location')['location'].count().sort_values(ascending=False)"
   ]
  },
  {
   "cell_type": "code",
   "execution_count": 177,
   "id": "ddf41d0d",
   "metadata": {},
   "outputs": [
    {
     "data": {
      "text/plain": [
       "location\n",
       "Subhash Nagar                           1\n",
       "Craig Park Layout                       1\n",
       "Maruthi HBCS Layout                     1\n",
       "Brigade Road                            1\n",
       "Kengeri Satellite Town ( BDA SITE)      1\n",
       "                                     ... \n",
       "Thanisandra                           234\n",
       "Kanakpura Road                        273\n",
       "Electronic City                       302\n",
       "Sarjapur  Road                        397\n",
       "Whitefield                            539\n",
       "Name: count, Length: 1304, dtype: int64"
      ]
     },
     "execution_count": 177,
     "metadata": {},
     "output_type": "execute_result"
    }
   ],
   "source": [
    "df4.location.value_counts(ascending=True)"
   ]
  },
  {
   "cell_type": "code",
   "execution_count": 178,
   "id": "5ff1f5b6",
   "metadata": {},
   "outputs": [
    {
     "data": {
      "text/plain": [
       "(1304, 1063)"
      ]
     },
     "execution_count": 178,
     "metadata": {},
     "output_type": "execute_result"
    }
   ],
   "source": [
    "loc_stats = df4.groupby('location')['location'].count().sort_values(ascending=False)\n",
    "len(loc_stats), len(loc_stats[loc_stats<=10])"
   ]
  },
  {
   "cell_type": "markdown",
   "id": "17e46019",
   "metadata": {},
   "source": [
    "Out of 1304 entries in the data Set, we have 1063 entries where the location count == 1, hence we club all of these locations that have been appeared only once into a category called 'OTHER'"
   ]
  },
  {
   "cell_type": "code",
   "execution_count": 181,
   "id": "7ede521f",
   "metadata": {},
   "outputs": [],
   "source": [
    "loc_less_than_10 = loc_stats[loc_stats<=10].index\n",
    "df4.location = df4.location.apply(lambda x : 'other' if x in loc_less_than_10 else x)"
   ]
  },
  {
   "cell_type": "code",
   "execution_count": 183,
   "id": "55242b53",
   "metadata": {},
   "outputs": [
    {
     "data": {
      "text/plain": [
       "location\n",
       "other                        2897\n",
       "Whitefield                    539\n",
       "Sarjapur  Road                397\n",
       "Electronic City               302\n",
       "Kanakpura Road                273\n",
       "                             ... \n",
       "Tindlu                         11\n",
       "Marsur                         11\n",
       "2nd Phase Judicial Layout      11\n",
       "Thyagaraja Nagar               11\n",
       "HAL 2nd Stage                  11\n",
       "Name: count, Length: 242, dtype: int64"
      ]
     },
     "execution_count": 183,
     "metadata": {},
     "output_type": "execute_result"
    }
   ],
   "source": [
    "df4.location.value_counts()"
   ]
  },
  {
   "cell_type": "code",
   "execution_count": 187,
   "id": "bc37f5bd",
   "metadata": {},
   "outputs": [
    {
     "data": {
      "text/plain": [
       "242"
      ]
     },
     "execution_count": 187,
     "metadata": {},
     "output_type": "execute_result"
    }
   ],
   "source": [
    "df4.location.nunique()"
   ]
  }
 ],
 "metadata": {
  "kernelspec": {
   "display_name": "Python 3",
   "language": "python",
   "name": "python3"
  },
  "language_info": {
   "codemirror_mode": {
    "name": "ipython",
    "version": 3
   },
   "file_extension": ".py",
   "mimetype": "text/x-python",
   "name": "python",
   "nbconvert_exporter": "python",
   "pygments_lexer": "ipython3",
   "version": "3.12.6"
  }
 },
 "nbformat": 4,
 "nbformat_minor": 5
}
